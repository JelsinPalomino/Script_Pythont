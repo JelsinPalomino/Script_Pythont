{
  "nbformat": 4,
  "nbformat_minor": 0,
  "metadata": {
    "colab": {
      "name": "Descargar_descomprimir_ppto.ipynb",
      "provenance": [],
      "authorship_tag": "ABX9TyOg50VadquprBCCyLCXg5GY",
      "include_colab_link": true
    },
    "kernelspec": {
      "name": "python3",
      "display_name": "Python 3"
    },
    "language_info": {
      "name": "python"
    }
  },
  "cells": [
    {
      "cell_type": "markdown",
      "metadata": {
        "id": "view-in-github",
        "colab_type": "text"
      },
      "source": [
        "<a href=\"https://colab.research.google.com/github/JelsinPalomino/Script_Pythont/blob/main/Descargar_descomprimir_ppto.ipynb\" target=\"_parent\"><img src=\"https://colab.research.google.com/assets/colab-badge.svg\" alt=\"Open In Colab\"/></a>"
      ]
    },
    {
      "cell_type": "code",
      "metadata": {
        "id": "BZEAFye30gua"
      },
      "source": [
        "# Para descargar archivos rar\n",
        "!wget [...]\n",
        "!pip install unrar\n",
        "!unrar x [ruta]"
      ],
      "execution_count": null,
      "outputs": []
    },
    {
      "cell_type": "code",
      "metadata": {
        "colab": {
          "base_uri": "https://localhost:8080/"
        },
        "id": "M4l1PNQ6xb5f",
        "outputId": "1229619a-0d14-4fe4-9bd6-15d0f0165840"
      },
      "source": [
        "# Para archivos zip\n",
        "!wget https://www.datosabiertos.gob.pe/sites/default/files/2019-Gasto.zip\n",
        "!unzip /content/2019-Gasto.zip"
      ],
      "execution_count": null,
      "outputs": [
        {
          "output_type": "stream",
          "name": "stdout",
          "text": [
            "--2021-10-27 17:17:15--  https://www.datosabiertos.gob.pe/sites/default/files/2019-Gasto.zip\n",
            "Resolving www.datosabiertos.gob.pe (www.datosabiertos.gob.pe)... 190.239.28.173\n",
            "Connecting to www.datosabiertos.gob.pe (www.datosabiertos.gob.pe)|190.239.28.173|:443... connected.\n",
            "HTTP request sent, awaiting response... 200 OK\n",
            "Length: 333271685 (318M) [application/zip]\n",
            "Saving to: ‘2019-Gasto.zip’\n",
            "\n",
            "2019-Gasto.zip      100%[===================>] 317.83M  1.01MB/s    in 6m 57s  \n",
            "\n",
            "2021-10-27 17:24:14 (780 KB/s) - ‘2019-Gasto.zip’ saved [333271685/333271685]\n",
            "\n",
            "Archive:  /content/2019-Gasto.zip\n",
            "  inflating: 2019.csv                \n"
          ]
        }
      ]
    },
    {
      "cell_type": "code",
      "metadata": {
        "colab": {
          "base_uri": "https://localhost:8080/"
        },
        "id": "MpvlfzMV3TQq",
        "outputId": "0ac8d790-7dfe-4347-a4e9-b7d966dbb219"
      },
      "source": [
        "import pandas as pd\n",
        "ppto = pd.read_csv(\"/content/2019.csv\")\n",
        "\n",
        "# Seleccionamos el \"programa presupuestal\" referido al PROGRAMA ARTICULADO NUTRICIONAL que es el identificador 1\n",
        "ppto_pan = ppto[ppto[\"PROGRAMA_PPTO\"] == 1.0]\n",
        "\n",
        "# Seleccionamos el departamento donde se gasta que para nuestro caso sera CUSCO que es el identificador 8\n",
        "ppto_pan_cusco_ejec = ppto_pan[ppto_pan[\"DEPARTAMENTO_EJECUTORA\"] == 8]\n",
        "ppto_pan_cusco_ejec.to_csv('/content/ppto2019_pan_cusco_ejec.csv')"
      ],
      "execution_count": null,
      "outputs": [
        {
          "output_type": "stream",
          "name": "stderr",
          "text": [
            "/usr/local/lib/python3.7/dist-packages/IPython/core/interactiveshell.py:2718: DtypeWarning: Columns (0,40) have mixed types.Specify dtype option on import or set low_memory=False.\n",
            "  interactivity=interactivity, compiler=compiler, result=result)\n"
          ]
        }
      ]
    },
    {
      "cell_type": "code",
      "metadata": {
        "id": "RaCBSUr1y311"
      },
      "source": [
        "from os import remove\n",
        "remove ('/content/2019-Gasto.zip')\n",
        "remove ('/content/2019.csv')\n",
        "remove ('/content/ppto2019_pan_cusco_ejec.csv')"
      ],
      "execution_count": null,
      "outputs": []
    },
    {
      "cell_type": "code",
      "metadata": {
        "id": "pcz6p-eN2veC"
      },
      "source": [
        "from descargarmef import DescargarPpto\n",
        "\n",
        "def DescargarPpto():"
      ],
      "execution_count": null,
      "outputs": []
    },
    {
      "cell_type": "code",
      "metadata": {
        "id": "wNrVOtkw4GAI"
      },
      "source": [
        "!pip install "
      ],
      "execution_count": null,
      "outputs": []
    }
  ]
}